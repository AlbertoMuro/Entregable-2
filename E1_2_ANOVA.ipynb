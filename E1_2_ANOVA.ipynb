{
  "nbformat": 4,
  "nbformat_minor": 0,
  "metadata": {
    "colab": {
      "provenance": []
    },
    "kernelspec": {
      "name": "python3",
      "display_name": "Python 3"
    },
    "language_info": {
      "name": "python"
    }
  },
  "cells": [
    {
      "cell_type": "code",
      "execution_count": 1,
      "metadata": {
        "id": "Wj6pcvXSByTF"
      },
      "outputs": [],
      "source": [
        "import numpy as np\n",
        "import scipy.stats as stats\n",
        "import pandas as pd\n",
        "import matplotlib.pyplot as plt\n",
        "import statsmodels.api as sm\n",
        "import seaborn as sns #for the 2-way dataset\n",
        "from statsmodels.stats.multicomp import pairwise_tukeyhsd\n",
        "from statsmodels.formula.api import ols"
      ]
    },
    {
      "cell_type": "code",
      "source": [
        "#Carga desde un archivo .xlsx sin indice\n",
        "inmu = pd.read_excel('RetoConglomerados.xlsx')\n",
        "inmu.info()"
      ],
      "metadata": {
        "id": "CP67h_CRB5EA",
        "colab": {
          "base_uri": "https://localhost:8080/"
        },
        "outputId": "799981ac-eab7-4f5a-a37b-721a66a66ccd"
      },
      "execution_count": 3,
      "outputs": [
        {
          "output_type": "stream",
          "name": "stdout",
          "text": [
            "<class 'pandas.core.frame.DataFrame'>\n",
            "RangeIndex: 658 entries, 0 to 657\n",
            "Data columns (total 23 columns):\n",
            " #   Column         Non-Null Count  Dtype  \n",
            "---  ------         --------------  -----  \n",
            " 0   Alcaldia       658 non-null    object \n",
            " 1   Colonia        658 non-null    object \n",
            " 2   X1             658 non-null    float64\n",
            " 3   X2             658 non-null    float64\n",
            " 4   X3             658 non-null    float64\n",
            " 5   X4             658 non-null    float64\n",
            " 6   X5             658 non-null    float64\n",
            " 7   X6             658 non-null    float64\n",
            " 8   X7             658 non-null    float64\n",
            " 9   X8             658 non-null    float64\n",
            " 10  X9             658 non-null    float64\n",
            " 11  X10            658 non-null    float64\n",
            " 12  Cocina_equip   658 non-null    object \n",
            " 13  Gimnasio       658 non-null    object \n",
            " 14  Amueblado      658 non-null    object \n",
            " 15  Alberca        658 non-null    object \n",
            " 16  Terraza        658 non-null    object \n",
            " 17  Elevador       658 non-null    object \n",
            " 18  m2_construido  658 non-null    float64\n",
            " 19  Baños          658 non-null    float64\n",
            " 20  Recamaras      658 non-null    int64  \n",
            " 21  Lugares_estac  658 non-null    object \n",
            " 22  Precio_m2      658 non-null    float64\n",
            "dtypes: float64(13), int64(1), object(9)\n",
            "memory usage: 118.4+ KB\n"
          ]
        }
      ]
    },
    {
      "cell_type": "code",
      "source": [
        "#Seleccionamos las variables que analizaremos para nuestro primero modelo.\n",
        "OWA1 = inmu.iloc[ : , [0,22]]\n",
        "OWA1"
      ],
      "metadata": {
        "colab": {
          "base_uri": "https://localhost:8080/",
          "height": 423
        },
        "id": "BFPLm3SoFCvJ",
        "outputId": "a273801a-b29b-43be-b2db-a194b3f073d1"
      },
      "execution_count": 4,
      "outputs": [
        {
          "output_type": "execute_result",
          "data": {
            "text/plain": [
              "                   Alcaldia  Precio_m2\n",
              "0    La Magdalena Contreras    6500.00\n",
              "1                   Tlahuac    1200.00\n",
              "2                Cuajimalpa   17500.00\n",
              "3                   Tlahuac    1046.40\n",
              "4                   Tlahuac    1195.00\n",
              "..                      ...        ...\n",
              "653           Benito Juárez    5791.80\n",
              "654                Coyoacan    2200.00\n",
              "655  La Magdalena Contreras    1094.44\n",
              "656              Iztapalapa     650.00\n",
              "657            Azcapotzalco    3090.00\n",
              "\n",
              "[658 rows x 2 columns]"
            ],
            "text/html": [
              "\n",
              "  <div id=\"df-95e2f74e-496e-4ed4-85bf-9c677ca69d7a\" class=\"colab-df-container\">\n",
              "    <div>\n",
              "<style scoped>\n",
              "    .dataframe tbody tr th:only-of-type {\n",
              "        vertical-align: middle;\n",
              "    }\n",
              "\n",
              "    .dataframe tbody tr th {\n",
              "        vertical-align: top;\n",
              "    }\n",
              "\n",
              "    .dataframe thead th {\n",
              "        text-align: right;\n",
              "    }\n",
              "</style>\n",
              "<table border=\"1\" class=\"dataframe\">\n",
              "  <thead>\n",
              "    <tr style=\"text-align: right;\">\n",
              "      <th></th>\n",
              "      <th>Alcaldia</th>\n",
              "      <th>Precio_m2</th>\n",
              "    </tr>\n",
              "  </thead>\n",
              "  <tbody>\n",
              "    <tr>\n",
              "      <th>0</th>\n",
              "      <td>La Magdalena Contreras</td>\n",
              "      <td>6500.00</td>\n",
              "    </tr>\n",
              "    <tr>\n",
              "      <th>1</th>\n",
              "      <td>Tlahuac</td>\n",
              "      <td>1200.00</td>\n",
              "    </tr>\n",
              "    <tr>\n",
              "      <th>2</th>\n",
              "      <td>Cuajimalpa</td>\n",
              "      <td>17500.00</td>\n",
              "    </tr>\n",
              "    <tr>\n",
              "      <th>3</th>\n",
              "      <td>Tlahuac</td>\n",
              "      <td>1046.40</td>\n",
              "    </tr>\n",
              "    <tr>\n",
              "      <th>4</th>\n",
              "      <td>Tlahuac</td>\n",
              "      <td>1195.00</td>\n",
              "    </tr>\n",
              "    <tr>\n",
              "      <th>...</th>\n",
              "      <td>...</td>\n",
              "      <td>...</td>\n",
              "    </tr>\n",
              "    <tr>\n",
              "      <th>653</th>\n",
              "      <td>Benito Juárez</td>\n",
              "      <td>5791.80</td>\n",
              "    </tr>\n",
              "    <tr>\n",
              "      <th>654</th>\n",
              "      <td>Coyoacan</td>\n",
              "      <td>2200.00</td>\n",
              "    </tr>\n",
              "    <tr>\n",
              "      <th>655</th>\n",
              "      <td>La Magdalena Contreras</td>\n",
              "      <td>1094.44</td>\n",
              "    </tr>\n",
              "    <tr>\n",
              "      <th>656</th>\n",
              "      <td>Iztapalapa</td>\n",
              "      <td>650.00</td>\n",
              "    </tr>\n",
              "    <tr>\n",
              "      <th>657</th>\n",
              "      <td>Azcapotzalco</td>\n",
              "      <td>3090.00</td>\n",
              "    </tr>\n",
              "  </tbody>\n",
              "</table>\n",
              "<p>658 rows × 2 columns</p>\n",
              "</div>\n",
              "    <div class=\"colab-df-buttons\">\n",
              "\n",
              "  <div class=\"colab-df-container\">\n",
              "    <button class=\"colab-df-convert\" onclick=\"convertToInteractive('df-95e2f74e-496e-4ed4-85bf-9c677ca69d7a')\"\n",
              "            title=\"Convert this dataframe to an interactive table.\"\n",
              "            style=\"display:none;\">\n",
              "\n",
              "  <svg xmlns=\"http://www.w3.org/2000/svg\" height=\"24px\" viewBox=\"0 -960 960 960\">\n",
              "    <path d=\"M120-120v-720h720v720H120Zm60-500h600v-160H180v160Zm220 220h160v-160H400v160Zm0 220h160v-160H400v160ZM180-400h160v-160H180v160Zm440 0h160v-160H620v160ZM180-180h160v-160H180v160Zm440 0h160v-160H620v160Z\"/>\n",
              "  </svg>\n",
              "    </button>\n",
              "\n",
              "  <style>\n",
              "    .colab-df-container {\n",
              "      display:flex;\n",
              "      gap: 12px;\n",
              "    }\n",
              "\n",
              "    .colab-df-convert {\n",
              "      background-color: #E8F0FE;\n",
              "      border: none;\n",
              "      border-radius: 50%;\n",
              "      cursor: pointer;\n",
              "      display: none;\n",
              "      fill: #1967D2;\n",
              "      height: 32px;\n",
              "      padding: 0 0 0 0;\n",
              "      width: 32px;\n",
              "    }\n",
              "\n",
              "    .colab-df-convert:hover {\n",
              "      background-color: #E2EBFA;\n",
              "      box-shadow: 0px 1px 2px rgba(60, 64, 67, 0.3), 0px 1px 3px 1px rgba(60, 64, 67, 0.15);\n",
              "      fill: #174EA6;\n",
              "    }\n",
              "\n",
              "    .colab-df-buttons div {\n",
              "      margin-bottom: 4px;\n",
              "    }\n",
              "\n",
              "    [theme=dark] .colab-df-convert {\n",
              "      background-color: #3B4455;\n",
              "      fill: #D2E3FC;\n",
              "    }\n",
              "\n",
              "    [theme=dark] .colab-df-convert:hover {\n",
              "      background-color: #434B5C;\n",
              "      box-shadow: 0px 1px 3px 1px rgba(0, 0, 0, 0.15);\n",
              "      filter: drop-shadow(0px 1px 2px rgba(0, 0, 0, 0.3));\n",
              "      fill: #FFFFFF;\n",
              "    }\n",
              "  </style>\n",
              "\n",
              "    <script>\n",
              "      const buttonEl =\n",
              "        document.querySelector('#df-95e2f74e-496e-4ed4-85bf-9c677ca69d7a button.colab-df-convert');\n",
              "      buttonEl.style.display =\n",
              "        google.colab.kernel.accessAllowed ? 'block' : 'none';\n",
              "\n",
              "      async function convertToInteractive(key) {\n",
              "        const element = document.querySelector('#df-95e2f74e-496e-4ed4-85bf-9c677ca69d7a');\n",
              "        const dataTable =\n",
              "          await google.colab.kernel.invokeFunction('convertToInteractive',\n",
              "                                                    [key], {});\n",
              "        if (!dataTable) return;\n",
              "\n",
              "        const docLinkHtml = 'Like what you see? Visit the ' +\n",
              "          '<a target=\"_blank\" href=https://colab.research.google.com/notebooks/data_table.ipynb>data table notebook</a>'\n",
              "          + ' to learn more about interactive tables.';\n",
              "        element.innerHTML = '';\n",
              "        dataTable['output_type'] = 'display_data';\n",
              "        await google.colab.output.renderOutput(dataTable, element);\n",
              "        const docLink = document.createElement('div');\n",
              "        docLink.innerHTML = docLinkHtml;\n",
              "        element.appendChild(docLink);\n",
              "      }\n",
              "    </script>\n",
              "  </div>\n",
              "\n",
              "\n",
              "<div id=\"df-5fe16e34-8600-4bc9-ad9b-00437d4e2f9d\">\n",
              "  <button class=\"colab-df-quickchart\" onclick=\"quickchart('df-5fe16e34-8600-4bc9-ad9b-00437d4e2f9d')\"\n",
              "            title=\"Suggest charts.\"\n",
              "            style=\"display:none;\">\n",
              "\n",
              "<svg xmlns=\"http://www.w3.org/2000/svg\" height=\"24px\"viewBox=\"0 0 24 24\"\n",
              "     width=\"24px\">\n",
              "    <g>\n",
              "        <path d=\"M19 3H5c-1.1 0-2 .9-2 2v14c0 1.1.9 2 2 2h14c1.1 0 2-.9 2-2V5c0-1.1-.9-2-2-2zM9 17H7v-7h2v7zm4 0h-2V7h2v10zm4 0h-2v-4h2v4z\"/>\n",
              "    </g>\n",
              "</svg>\n",
              "  </button>\n",
              "\n",
              "<style>\n",
              "  .colab-df-quickchart {\n",
              "      --bg-color: #E8F0FE;\n",
              "      --fill-color: #1967D2;\n",
              "      --hover-bg-color: #E2EBFA;\n",
              "      --hover-fill-color: #174EA6;\n",
              "      --disabled-fill-color: #AAA;\n",
              "      --disabled-bg-color: #DDD;\n",
              "  }\n",
              "\n",
              "  [theme=dark] .colab-df-quickchart {\n",
              "      --bg-color: #3B4455;\n",
              "      --fill-color: #D2E3FC;\n",
              "      --hover-bg-color: #434B5C;\n",
              "      --hover-fill-color: #FFFFFF;\n",
              "      --disabled-bg-color: #3B4455;\n",
              "      --disabled-fill-color: #666;\n",
              "  }\n",
              "\n",
              "  .colab-df-quickchart {\n",
              "    background-color: var(--bg-color);\n",
              "    border: none;\n",
              "    border-radius: 50%;\n",
              "    cursor: pointer;\n",
              "    display: none;\n",
              "    fill: var(--fill-color);\n",
              "    height: 32px;\n",
              "    padding: 0;\n",
              "    width: 32px;\n",
              "  }\n",
              "\n",
              "  .colab-df-quickchart:hover {\n",
              "    background-color: var(--hover-bg-color);\n",
              "    box-shadow: 0 1px 2px rgba(60, 64, 67, 0.3), 0 1px 3px 1px rgba(60, 64, 67, 0.15);\n",
              "    fill: var(--button-hover-fill-color);\n",
              "  }\n",
              "\n",
              "  .colab-df-quickchart-complete:disabled,\n",
              "  .colab-df-quickchart-complete:disabled:hover {\n",
              "    background-color: var(--disabled-bg-color);\n",
              "    fill: var(--disabled-fill-color);\n",
              "    box-shadow: none;\n",
              "  }\n",
              "\n",
              "  .colab-df-spinner {\n",
              "    border: 2px solid var(--fill-color);\n",
              "    border-color: transparent;\n",
              "    border-bottom-color: var(--fill-color);\n",
              "    animation:\n",
              "      spin 1s steps(1) infinite;\n",
              "  }\n",
              "\n",
              "  @keyframes spin {\n",
              "    0% {\n",
              "      border-color: transparent;\n",
              "      border-bottom-color: var(--fill-color);\n",
              "      border-left-color: var(--fill-color);\n",
              "    }\n",
              "    20% {\n",
              "      border-color: transparent;\n",
              "      border-left-color: var(--fill-color);\n",
              "      border-top-color: var(--fill-color);\n",
              "    }\n",
              "    30% {\n",
              "      border-color: transparent;\n",
              "      border-left-color: var(--fill-color);\n",
              "      border-top-color: var(--fill-color);\n",
              "      border-right-color: var(--fill-color);\n",
              "    }\n",
              "    40% {\n",
              "      border-color: transparent;\n",
              "      border-right-color: var(--fill-color);\n",
              "      border-top-color: var(--fill-color);\n",
              "    }\n",
              "    60% {\n",
              "      border-color: transparent;\n",
              "      border-right-color: var(--fill-color);\n",
              "    }\n",
              "    80% {\n",
              "      border-color: transparent;\n",
              "      border-right-color: var(--fill-color);\n",
              "      border-bottom-color: var(--fill-color);\n",
              "    }\n",
              "    90% {\n",
              "      border-color: transparent;\n",
              "      border-bottom-color: var(--fill-color);\n",
              "    }\n",
              "  }\n",
              "</style>\n",
              "\n",
              "  <script>\n",
              "    async function quickchart(key) {\n",
              "      const quickchartButtonEl =\n",
              "        document.querySelector('#' + key + ' button');\n",
              "      quickchartButtonEl.disabled = true;  // To prevent multiple clicks.\n",
              "      quickchartButtonEl.classList.add('colab-df-spinner');\n",
              "      try {\n",
              "        const charts = await google.colab.kernel.invokeFunction(\n",
              "            'suggestCharts', [key], {});\n",
              "      } catch (error) {\n",
              "        console.error('Error during call to suggestCharts:', error);\n",
              "      }\n",
              "      quickchartButtonEl.classList.remove('colab-df-spinner');\n",
              "      quickchartButtonEl.classList.add('colab-df-quickchart-complete');\n",
              "    }\n",
              "    (() => {\n",
              "      let quickchartButtonEl =\n",
              "        document.querySelector('#df-5fe16e34-8600-4bc9-ad9b-00437d4e2f9d button');\n",
              "      quickchartButtonEl.style.display =\n",
              "        google.colab.kernel.accessAllowed ? 'block' : 'none';\n",
              "    })();\n",
              "  </script>\n",
              "</div>\n",
              "    </div>\n",
              "  </div>\n"
            ]
          },
          "metadata": {},
          "execution_count": 4
        }
      ]
    },
    {
      "cell_type": "code",
      "source": [
        "#creamos una lista de las emosiones de CO2 y las agrupamos por cilindraje.\n",
        "agrudatos1 = [group[1]['Precio_m2'] for group in OWA1.groupby('Alcaldia')] #\n",
        "\n",
        "#Realizamos la prueba ANOVA 1 via.\n",
        "estadistico_f, p_valor = stats.f_oneway(*agrudatos1)#desempaquetamos la lista en elementos individuales.\n",
        "#?\n",
        "\n",
        "# Imprimimos el resultado\n",
        "print(\"ANOVA de una vía - Resultados:\")\n",
        "print(f\"Puntaje F: {estadistico_f:.2f}\")\n",
        "print(f\"P-valor: {p_valor:.4f}\")\n",
        "\n",
        "# Para simplificar la interpretación de los resultados:\n",
        "alpha = 0.05 #Podemos elegir un valor considerando nuestro nivel de confianza\n",
        "if p_valor < alpha:\n",
        "    print(\"Se rechaza la hipótesis nula. Existen diferencias significativas entre grupos.\")\n",
        "else:\n",
        "    print(\"No se rechaza la hipótesis nula. No existen diferencias significativas entre grupos.\")"
      ],
      "metadata": {
        "colab": {
          "base_uri": "https://localhost:8080/"
        },
        "id": "IgOc689ZFM3z",
        "outputId": "a7a80f66-cf36-4a87-f8cb-8c59fc5b35a1"
      },
      "execution_count": 5,
      "outputs": [
        {
          "output_type": "stream",
          "name": "stdout",
          "text": [
            "ANOVA de una vía - Resultados:\n",
            "Puntaje F: 27.50\n",
            "P-valor: 0.0000\n",
            "Se rechaza la hipótesis nula. Existen diferencias significativas entre grupos.\n"
          ]
        }
      ]
    },
    {
      "cell_type": "code",
      "source": [
        "#visualizamos los datos:\n",
        "# Create a box plot\n",
        "plt.figure(figsize=(8, 6))\n",
        "sns.boxplot(x='Alcaldia', y='Precio_m2', data=OWA1, palette='Set2')\n",
        "plt.title('Box Plot Precio por Alcaldia')\n",
        "plt.xlabel('Alcaldia')\n",
        "plt.ylabel('Precio/m2')\n",
        "plt.show()"
      ],
      "metadata": {
        "colab": {
          "base_uri": "https://localhost:8080/",
          "height": 565
        },
        "id": "uyrvSdmSFZcG",
        "outputId": "12821adf-e62c-4507-a45b-0d264c420877"
      },
      "execution_count": 6,
      "outputs": [
        {
          "output_type": "display_data",
          "data": {
            "text/plain": [
              "<Figure size 800x600 with 1 Axes>"
            ],
            "image/png": "[encoded data removed]"
          },
          "metadata": {}
        }
      ]
    },
    {
      "cell_type": "code",
      "source": [
        "#Prueba Post-Hoc\n",
        "#para realizar comparaciones entre grupos\n",
        "tukeyresultado1 = pairwise_tukeyhsd(OWA1['Precio_m2'], OWA1['Alcaldia'])\n",
        "print(\"\\nResultados Tukey-Kramer prueba Post Hoc:\")\n",
        "print(tukeyresultado1)"
      ],
      "metadata": {
        "id": "pCB-Gc8CFsj3"
      },
      "execution_count": null,
      "outputs": []
    },
    {
      "cell_type": "markdown",
      "source": [
        "# ANOVA 2 WAY"
      ],
      "metadata": {
        "id": "IuoYuh1ggQL4"
      }
    },
    {
      "cell_type": "code",
      "source": [
        "TWA = inmu.iloc[ : , [12,14,22]]"
      ],
      "metadata": {
        "id": "wpZG7llSgGyK"
      },
      "execution_count": 8,
      "outputs": []
    },
    {
      "cell_type": "code",
      "source": [
        "# ANOVA de 2 vías.\n",
        "formula = 'Precio_m2 ~ Cocina_equip + Amueblado'\n",
        "modelo = ols(formula, data=TWA).fit()\n",
        "tablANOVA = sm.stats.anova_lm(modelo, typ=2)\n",
        "\n",
        "# Imprimimos los resultados\n",
        "print(\"Resultados ANOVA de dos vías:\")\n",
        "print(tablANOVA)"
      ],
      "metadata": {
        "colab": {
          "base_uri": "https://localhost:8080/"
        },
        "id": "hrsP1H3KgdnL",
        "outputId": "9d77f986-a227-4a81-d480-b53d66feb7da"
      },
      "execution_count": 9,
      "outputs": [
        {
          "output_type": "stream",
          "name": "stdout",
          "text": [
            "Resultados ANOVA de dos vías:\n",
            "                    sum_sq     df         F    PR(>F)\n",
            "Cocina_equip  6.840043e+08    2.0  7.168247  0.000833\n",
            "Amueblado     7.587256e+07    3.0  0.530088  0.661763\n",
            "Residual      3.110738e+10  652.0       NaN       NaN\n"
          ]
        }
      ]
    },
    {
      "cell_type": "code",
      "source": [
        "plt.figure(figsize=(12, 6))\n",
        "sns.boxplot(x='Amueblado', y='Precio_m2', hue='Cocina_equip', data=TWA, palette='Set2')\n",
        "plt.title('Box plot de Casas Amuebladas y su Precio')\n",
        "plt.xlabel('Amueblado')\n",
        "plt.ylabel('Precio')\n",
        "plt.legend(title='Cocina Equipada')\n",
        "plt.show()"
      ],
      "metadata": {
        "colab": {
          "base_uri": "https://localhost:8080/",
          "height": 564
        },
        "id": "_Kcai67Egq3i",
        "outputId": "2026d6ef-baf2-4a37-f325-b7f6388c8a20"
      },
      "execution_count": 10,
      "outputs": [
        {
          "output_type": "display_data",
          "data": {
            "text/plain": [
              "<Figure size 1200x600 with 1 Axes>"
            ],
            "image/png": "[encoded data removed]"
          },
          "metadata": {}
        }
      ]
    },
    {
      "cell_type": "code",
      "source": [
        "inmu[\"Cocina_equip\"].value_counts"
      ],
      "metadata": {
        "colab": {
          "base_uri": "https://localhost:8080/"
        },
        "id": "G9DPXBTHhCrF",
        "outputId": "28d97d20-4eed-423a-b412-5f2011faee99"
      },
      "execution_count": 15,
      "outputs": [
        {
          "output_type": "execute_result",
          "data": {
            "text/plain": [
              "<bound method IndexOpsMixin.value_counts of 0       Si\n",
              "1       Si\n",
              "2       Si\n",
              "3       No\n",
              "4       No\n",
              "      ... \n",
              "653     Si\n",
              "654     Si\n",
              "655     Si\n",
              "656     Si\n",
              "657    Si \n",
              "Name: Cocina_equip, Length: 658, dtype: object>"
            ]
          },
          "metadata": {},
          "execution_count": 15
        }
      ]
    }
  ]
}